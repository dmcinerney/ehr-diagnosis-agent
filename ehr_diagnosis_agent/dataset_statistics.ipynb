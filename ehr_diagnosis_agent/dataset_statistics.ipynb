{
 "cells": [
  {
   "cell_type": "code",
   "execution_count": 16,
   "metadata": {},
   "outputs": [],
   "source": [
    "from utils import get_args\n",
    "import os\n",
    "import pandas as pd\n",
    "import ehr_diagnosis_env\n",
    "from ehr_diagnosis_env.envs import EHRDiagnosisEnv\n",
    "import gymnasium\n",
    "from tqdm import tqdm\n",
    "from collections import Counter\n",
    "\n",
    "\n",
    "args = get_args('config.yaml')\n",
    "def get_env(split, truncate=None):\n",
    "    print(f'loading {split} dataset...')\n",
    "    eval_df = pd.read_csv(os.path.join(\n",
    "        args.data.path, args.data.dataset, f'{split}.data'),\n",
    "        compression='gzip')\n",
    "    print(f'length={len(eval_df)}')\n",
    "    if truncate is not None:\n",
    "        print(f'Truncating to {truncate}')\n",
    "        eval_df = eval_df[:truncate]\n",
    "    env: EHRDiagnosisEnv = gymnasium.make(\n",
    "        'ehr_diagnosis_env/EHRDiagnosisEnv-v0',\n",
    "        instances=eval_df,\n",
    "        cache_path=args.env[f'{split}_cache_path'],\n",
    "        llm_name_or_interface=None,\n",
    "        fmm_name_or_interface=None,\n",
    "        fuzzy_matching_threshold=None,\n",
    "        reward_type=args.env.reward_type,\n",
    "        num_future_diagnoses_threshold=args.env.num_future_diagnoses_threshold,\n",
    "        progress_bar=lambda *a, **kwa: tqdm(*a, **kwa, leave=False),\n",
    "        top_k_evidence=args.env.top_k_evidence,\n",
    "        verbosity=1, # don't print anything when an environment is dead\n",
    "        add_risk_factor_queries=args.env.add_risk_factor_queries,\n",
    "        limit_options_with_llm=args.env.limit_options_with_llm,\n",
    "        add_none_of_the_above_option=args.env.add_none_of_the_above_option,\n",
    "        true_positive_minimum=args.env.true_positive_minimum,\n",
    "        use_confident_diagnosis_mapping=\n",
    "            args.env.use_confident_diagnosis_mapping,\n",
    "        skip_instances_with_gt_n_reports=\n",
    "            args.env.skip_instances_with_gt_n_reports,\n",
    "    ) # type: ignore\n",
    "    return env\n",
    "\n",
    "\n",
    "import math\n",
    "def inverse_sigmoid(x):\n",
    "    return math.log(x / (1-x))\n",
    "\n",
    "\n",
    "def get_counts(env, subset=None):\n",
    "    print('getting cached instance info')\n",
    "    cache_info = env.get_cached_instance_dataframe()\n",
    "    print('counting...')\n",
    "    counts = Counter()\n",
    "    for i, row in cache_info.iterrows():\n",
    "        if subset is not None and i not in subset:\n",
    "            continue\n",
    "        if row['is valid timestep'] is not None and \\\n",
    "                row['is valid timestep'] == row['is valid timestep'] and \\\n",
    "                sum(row['is valid timestep']) > 0:\n",
    "            counts['total'] += 1\n",
    "            for target in row['target diagnosis countdown'][0].keys():\n",
    "                counts[target] += 1\n",
    "            if len(row['target diagnosis countdown'][0]) == 0:\n",
    "                counts['negatives'] += 1\n",
    "    print('counts')\n",
    "    print(counts)\n",
    "    print('prevelance')\n",
    "    print({k: v / counts['total'] for k, v in counts.items()})\n",
    "    print('inverse sigmoid of prevelance')\n",
    "    print({k: inverse_sigmoid(v / counts['total']) for k, v in counts.items() if k != 'total'})\n",
    "    return counts"
   ]
  },
  {
   "cell_type": "code",
   "execution_count": null,
   "metadata": {},
   "outputs": [],
   "source": [
    "train_env = get_env('train')"
   ]
  },
  {
   "cell_type": "code",
   "execution_count": 17,
   "metadata": {},
   "outputs": [
    {
     "name": "stdout",
     "output_type": "stream",
     "text": [
      "getting cached instance info\n",
      "counting...\n",
      "counts\n",
      "Counter({'total': 30252, 'negatives': 21774, 'pulmonary edema': 5098, 'pneumonia': 3744, 'cancer': 2010})\n",
      "prevelance\n",
      "{'total': 1.0, 'negatives': 0.7197540658468862, 'pulmonary edema': 0.16851778394816871, 'pneumonia': 0.12376041253470844, 'cancer': 0.06644188813962713}\n",
      "inverse sigmoid of prevelance\n",
      "{'negatives': 0.943242024528543, 'pulmonary edema': -1.5961686236710402, 'pneumonia': -1.9572920156106348, 'cancer': -2.642675509576076}\n"
     ]
    }
   ],
   "source": [
    "train_counts = get_counts(train_env, subset=None)"
   ]
  },
  {
   "cell_type": "code",
   "execution_count": 18,
   "metadata": {},
   "outputs": [
    {
     "name": "stdout",
     "output_type": "stream",
     "text": [
      "getting cached instance info\n",
      "counting...\n",
      "counts\n",
      "Counter({'total': 10491, 'pulmonary edema': 5098, 'pneumonia': 3744, 'negatives': 2013, 'cancer': 2010})\n",
      "prevelance\n",
      "{'total': 1.0, 'pulmonary edema': 0.4859403298065008, 'pneumonia': 0.35687732342007433, 'cancer': 0.1915927938232771, 'negatives': 0.19187875321704317}\n",
      "inverse sigmoid of prevelance\n",
      "{'pulmonary edema': -0.05625351040116628, 'pneumonia': -0.5889434030299426, 'cancer': -1.4396936453085785, 'negatives': -1.437848426272791}\n"
     ]
    }
   ],
   "source": [
    "import pickle as pkl\n",
    "with open('train_subset.pkl', 'rb') as f:\n",
    "    subset = pkl.load(f)\n",
    "modified_train_counts = get_counts(train_env, subset=subset)\n"
   ]
  },
  {
   "cell_type": "code",
   "execution_count": null,
   "metadata": {},
   "outputs": [],
   "source": []
  }
 ],
 "metadata": {
  "kernelspec": {
   "display_name": "Python 3",
   "language": "python",
   "name": "python3"
  },
  "language_info": {
   "codemirror_mode": {
    "name": "ipython",
    "version": 3
   },
   "file_extension": ".py",
   "mimetype": "text/x-python",
   "name": "python",
   "nbconvert_exporter": "python",
   "pygments_lexer": "ipython3",
   "version": "3.11.3"
  },
  "orig_nbformat": 4
 },
 "nbformat": 4,
 "nbformat_minor": 2
}
